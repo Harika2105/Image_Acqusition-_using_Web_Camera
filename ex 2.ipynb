{
 "cells": [
  {
   "cell_type": "code",
   "execution_count": null,
   "id": "d9c83f49-90f4-4ce5-b0ae-a8c929346a1f",
   "metadata": {},
   "outputs": [],
   "source": [
    "# EXP-2-Record-Image Acquisition using Web Camera #\n",
    "# Name : S.HARIKA #\n",
    "# Reg No:"
   ]
  },
  {
   "cell_type": "code",
   "execution_count": 1,
   "id": "ab2eeeb7-f964-49c2-9d23-2ffc83344735",
   "metadata": {},
   "outputs": [],
   "source": [
    "import cv2\n",
    "viedoCaptureObject=cv2.VideoCapture(0)\n",
    "\n",
    "ret,frame=viedoCaptureObject.read()\n",
    "cv2.imwrite(\"webcam_img.jpg\",frame)\n",
    "\n",
    "viedoCaptureObject.release()\n",
    "cv2.destroyAllWindows()"
   ]
  },
  {
   "cell_type": "code",
   "execution_count": 2,
   "id": "81883e67-10bb-42c0-8abb-60c77a0c45c1",
   "metadata": {},
   "outputs": [],
   "source": [
    "import numpy as np\n",
    "import cv2\n",
    "\n",
    "cap = cv2.VideoCapture(0)\n",
    "ret, frame = cap.read()\n",
    "\n",
    "cv2.imshow('captured_frame', frame)\n",
    "\n",
    "cv2.waitKey(10000)\n",
    "\n",
    "\n",
    "cap.release()\n",
    "cv2.destroyAllWindows()"
   ]
  },
  {
   "cell_type": "code",
   "execution_count": 3,
   "id": "ee4d049d-781d-4002-8392-ca777f1948fa",
   "metadata": {},
   "outputs": [],
   "source": [
    "import numpy as np\n",
    "import cv2\n",
    "cap=cv2.VideoCapture(0)\n",
    "\n",
    "ret,frame=cap.read()\n",
    "width=int(cap.get(3))\n",
    "height=int(cap.get(4))\n",
    "image=np.zeros(frame.shape,np.uint8)\n",
    "smaller_frame=cv2.resize(frame,(0,0),fx=0.5,fy=0.5)\n",
    "image[:height//2, :width//2]=smaller_frame\n",
    "image[height//2:, :width//2]=smaller_frame\n",
    "image[:height//2, width//2:]=smaller_frame\n",
    "image[height//2:, width//2:]=smaller_frame\n",
    "\n",
    "cv2.imshow('212224240155_Harika',image)\n",
    "\n",
    "cv2.waitKey(5000)  \n",
    "\n",
    "image_dict = {'captured_image1': image}\n",
    "cv2.imwrite('captured_image1.jpg', image)\n",
    "\n",
    "cap.release()\n",
    "cv2.destroyAllWindows()"
   ]
  },
  {
   "cell_type": "code",
   "execution_count": 4,
   "id": "14bf12b0-6f5b-462b-95d4-3769481af573",
   "metadata": {},
   "outputs": [],
   "source": [
    "import numpy as np\n",
    "import cv2\n",
    "cap=cv2.VideoCapture(0)\n",
    "\n",
    "ret,frame=cap.read()\n",
    "width=int(cap.get(3))\n",
    "height=int(cap.get(4))\n",
    "image=np.zeros(frame.shape,np.uint8)\n",
    "smaller_frame=cv2.resize(frame,(0,0),fx=0.5,fy=0.5)\n",
    "image[:height//2, :width//2]=cv2.rotate(smaller_frame,cv2.ROTATE_180)\n",
    "image[height//2:, :width//2]=smaller_frame\n",
    "image[:height//2, width//2:]=cv2.rotate(smaller_frame,cv2.ROTATE_180)\n",
    "image[height//2:, width//2:]=smaller_frame\n",
    "\n",
    "cv2.imshow('212224240155',image)\n",
    "\n",
    "cv2.waitKey(5000) \n",
    "\n",
    "image_dict = {'captured_image2': image}\n",
    "cv2.imwrite('captured_image2.jpg', image)\n",
    "\n",
    "cap.release()\n",
    "cv2.destroyAllWindows()"
   ]
  },
  {
   "cell_type": "code",
   "execution_count": null,
   "id": "f8f5f406-d7e7-44dc-a65d-b1a534d9c34c",
   "metadata": {},
   "outputs": [],
   "source": []
  },
  {
   "cell_type": "code",
   "execution_count": null,
   "id": "bb3986ac-9b77-4a6d-9122-dc8579192d88",
   "metadata": {},
   "outputs": [],
   "source": []
  }
 ],
 "metadata": {
  "kernelspec": {
   "display_name": "Python 3 (ipykernel)",
   "language": "python",
   "name": "python3"
  },
  "language_info": {
   "codemirror_mode": {
    "name": "ipython",
    "version": 3
   },
   "file_extension": ".py",
   "mimetype": "text/x-python",
   "name": "python",
   "nbconvert_exporter": "python",
   "pygments_lexer": "ipython3",
   "version": "3.11.13"
  }
 },
 "nbformat": 4,
 "nbformat_minor": 5
}
